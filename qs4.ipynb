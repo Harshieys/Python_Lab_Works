{
 "cells": [
  {
   "cell_type": "code",
   "execution_count": 7,
   "metadata": {},
   "outputs": [
    {
     "name": "stdin",
     "output_type": "stream",
     "text": [
      "Enter lower limit: 1000\n",
      "Enter upper limit: 10000\n"
     ]
    },
    {
     "name": "stdout",
     "output_type": "stream",
     "text": [
      "[4624, 6084, 6400, 8464]\n"
     ]
    }
   ],
   "source": [
    "# 4. Generate a list of four digit numbers in a given range with all their digits even and the number is a perfect square.\n",
    "\n",
    "li=[]\n",
    "l=int(input(\"Enter lower limit:\"))\n",
    "u=int(input(\"Enter upper limit:\"))\n",
    "for i in range(l,u):\n",
    "    for j in range(32,100):\n",
    "        if i == j*j:\n",
    "            string = str(i)\n",
    "            if int(string[0])%2 == 0 and int(string[1])%2 == 0 and int(string[2])%2 == 0 and int(string[3])%2 == 0:\n",
    "                li.append(i)\n",
    "print(li)"
   ]
  },
  {
   "cell_type": "code",
   "execution_count": null,
   "metadata": {},
   "outputs": [],
   "source": []
  }
 ],
 "metadata": {
  "kernelspec": {
   "display_name": "Python 3",
   "language": "python",
   "name": "python3"
  },
  "language_info": {
   "codemirror_mode": {
    "name": "ipython",
    "version": 3
   },
   "file_extension": ".py",
   "mimetype": "text/x-python",
   "name": "python",
   "nbconvert_exporter": "python",
   "pygments_lexer": "ipython3",
   "version": "3.7.3"
  }
 },
 "nbformat": 4,
 "nbformat_minor": 2
}
