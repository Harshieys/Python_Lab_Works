{
 "cells": [
  {
   "cell_type": "code",
   "execution_count": 2,
   "metadata": {},
   "outputs": [
    {
     "name": "stdin",
     "output_type": "stream",
     "text": [
      "Enter the positive integer number:  6\n"
     ]
    },
    {
     "name": "stdout",
     "output_type": "stream",
     "text": [
      "The factors of the 6 are: 1 2 3 6 \n"
     ]
    }
   ],
   "source": [
    "# 7. Write a program to generate all factors of a number. [use while loop]\n",
    "\n",
    "num= int(input(\"Enter the positive integer number: \"))\n",
    "i = 1\n",
    "\n",
    "print (\"The factors of the\", num, \"are: \", end=\"\")\n",
    "while i <= num:\n",
    "    if num % i == 0:\n",
    "        print (i, end=\" \")\n",
    "    i += 1\n",
    "print (end=\"\\n\")"
   ]
  },
  {
   "cell_type": "markdown",
   "metadata": {},
   "source": []
  }
 ],
 "metadata": {
  "kernelspec": {
   "display_name": "Python 3",
   "language": "python",
   "name": "python3"
  },
  "language_info": {
   "codemirror_mode": {
    "name": "ipython",
    "version": 3
   },
   "file_extension": ".py",
   "mimetype": "text/x-python",
   "name": "python",
   "nbconvert_exporter": "python",
   "pygments_lexer": "ipython3",
   "version": "3.7.3"
  }
 },
 "nbformat": 4,
 "nbformat_minor": 2
}
