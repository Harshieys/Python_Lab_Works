{
 "cells": [
  {
   "cell_type": "code",
   "execution_count": 2,
   "metadata": {},
   "outputs": [
    {
     "name": "stdin",
     "output_type": "stream",
     "text": [
      "Enter a number: 56\n"
     ]
    },
    {
     "name": "stdout",
     "output_type": "stream",
     "text": [
      "Reversed Number: 65\n"
     ]
    }
   ],
   "source": [
    "# 8. Write a program to print the reverse of a number. [use while loop]\n",
    "\n",
    "num = int(input(\"Enter a number:\"))\n",
    "reversed_num = 0\n",
    "\n",
    "while num != 0:\n",
    "    digit = num % 10\n",
    "    reversed_num = reversed_num * 10 + digit\n",
    "    num //= 10\n",
    "\n",
    "print(\"Reversed Number: \" + str(reversed_num))"
   ]
  },
  {
   "cell_type": "code",
   "execution_count": null,
   "metadata": {},
   "outputs": [],
   "source": []
  }
 ],
 "metadata": {
  "kernelspec": {
   "display_name": "Python 3",
   "language": "python",
   "name": "python3"
  },
  "language_info": {
   "codemirror_mode": {
    "name": "ipython",
    "version": 3
   },
   "file_extension": ".py",
   "mimetype": "text/x-python",
   "name": "python",
   "nbconvert_exporter": "python",
   "pygments_lexer": "ipython3",
   "version": "3.7.3"
  }
 },
 "nbformat": 4,
 "nbformat_minor": 2
}
